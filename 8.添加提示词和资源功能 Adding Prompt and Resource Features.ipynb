{
 "cells": [
  {
   "cell_type": "markdown",
   "id": "efc712d2-8b62-4098-a986-76ec60c795c4",
   "metadata": {},
   "source": [
    "# 第八章 添加提示词和资源功能"
   ]
  },
  {
   "cell_type": "markdown",
   "id": "42777ce6-c826-4f1a-909f-f31aa9799e99",
   "metadata": {},
   "source": [
    "在前面的课程中，您创建了一个仅提供工具的MCP服务器。在本课程中，您将获得研究服务器文件的更新文件，该文件现在除了提供2个工具外，还提供了一个提示模板和2个资源功能。您还将获得mcp聊天机器人文件的更新文件，mcp客户端在其中公开提示词（prompt）和资源（resources）供用户使用。这些文件位于 mcp_project 文件夹中。"
   ]
  },
  {
   "cell_type": "markdown",
   "id": "818369d9-0001-46bf-ae95-9a6fb0d5977a",
   "metadata": {},
   "source": [
    "<div style=\"background-color:#fff6ff; padding:13px; border-width:3px; border-color:#efe6ef; border-style:solid; border-radius:6px\">\n",
    "<p> 💻 &nbsp; <b> 要访问  <code>mcp_project</code> 文件夹 :</b> 1) 单击笔记本顶部菜单上的 <em>\"File\"</em> 选项，然后 2) 点击 <em>\"Open\"</em> ，最后 3) 点击 <em>L7</em>.\n",
    "</div>"
   ]
  },
  {
   "cell_type": "markdown",
   "id": "70f59fc7",
   "metadata": {},
   "source": [
    "## 在MCP服务器中定义资源和提示 - 可选阅读\n"
   ]
  },
  {
   "cell_type": "markdown",
   "id": "20132d65-49f8-4b06-a122-e19d01aeceb1",
   "metadata": {},
   "source": [
    "您可选择在观看视频前或后阅读本节内容。您可以跳转到笔记本的末尾来运行更新的聊天机器人。"
   ]
  },
  {
   "cell_type": "markdown",
   "id": "2b11fbf8-4620-4eec-9d8b-6cd3158143ed",
   "metadata": {},
   "source": [
    "**资源**"
   ]
  },
  {
   "cell_type": "markdown",
   "id": "88dfa65e-1a60-4f64-abb5-597d0145652d",
   "metadata": {},
   "source": [
    "您从第三章中了解到，研究服务器将研究论文的信息保存在一个名为 papers_info.json 的 json 文件中，该文件存储在一个标有主题名称的文件夹下。所有主题都存储在 papers 目录下。如果您查看 mcp_project 下提供给您的papers 文件夹，你会发现两个标有 ai_interpretability 和 llm_reasoning 的文件夹，在每个文件夹中，您都有 papers_info.json 文件。\n",
    "\n",
    "资源是 MCP 服务器可以向 LLM 应用程序公开的只读数据。资源类似于REST API中的GET端点——它们提供数据，但不应执行显著的计算或产生副作用。例如，资源可以是目录中的文件夹列表，也可以是文件夹中的文件内容。这里，MCP服务器提供两种资源：\n",
    "- 论文目录下的可用主题文件夹列表；\n",
    "- 存储在主题文件夹下的论文信息。\n",
    "\n",
    "以下一个代码片段，显示了如何再次使用FastMCP（使用装饰器 @MCP.resource（uri））在MCP服务器中定义资源。您可以在 mcp_project 文件夹中找到完整的代码。@mcp.resources() 中定义的URI用于唯一标识资源，作为服务器开发人员，您可以自定义URI。但一般来说，它遵循以下原则：sth://xyz/xcv .在这个例子中，使用了两种类型的URI：\n",
    "- 静态URI:papers://folders（表示可用主题列表）\n",
    "- 动态URI:papers://{topic}（表示客户端在运行时指定的主题下的论文信息）\n"
   ]
  },
  {
   "cell_type": "markdown",
   "id": "a8c25206-76d6-4449-8af7-b41209fbbdfc",
   "metadata": {},
   "source": [
    "``` python\n",
    "@mcp.resource(\"papers://folders\")\n",
    "def get_available_folders() -> str:\n",
    "    \"\"\"\n",
    "    列出论文目录中所有可用的主题文件夹。\n",
    "\n",
    "    此资源提供了所有可用的主题文件夹的一个简表。\n",
    "    \"\"\"\n",
    "    folders = []\n",
    "    \n",
    "    # Get all topic directories\n",
    "    if os.path.exists(PAPER_DIR):\n",
    "        for topic_dir in os.listdir(PAPER_DIR):\n",
    "            topic_path = os.path.join(PAPER_DIR, topic_dir)\n",
    "            if os.path.isdir(topic_path):\n",
    "                papers_file = os.path.join(topic_path, \"papers_info.json\")\n",
    "                if os.path.exists(papers_file):\n",
    "                    folders.append(topic_dir)\n",
    "    \n",
    "    # 创建一个简单的 markdown 列表\n",
    "    content = \"# Available Topics\\n\\n\"\n",
    "    if folders:\n",
    "        for folder in folders:\n",
    "            content += f\"- {folder}\\n\"\n",
    "        content += f\"\\nUse @{folder} to access papers in that topic.\\n\"\n",
    "    else:\n",
    "        content += \"No topics found.\\n\"\n",
    "    \n",
    "    return content\n",
    "\n",
    "@mcp.resource(\"papers://{topic}\")\n",
    "def get_topic_papers(topic: str) -> str:\n",
    "    \"\"\"\n",
    "    获取特定主题的论文详细信息。\n",
    "\n",
    "    参数（Args）：\n",
    "    topic：要检索论文的研究主题\n",
    "    \n",
    "    \"\"\"\n",
    "    topic_dir = topic.lower().replace(\" \", \"_\")\n",
    "    papers_file = os.path.join(PAPER_DIR, topic_dir, \"papers_info.json\")\n",
    "    \n",
    "    if not os.path.exists(papers_file):\n",
    "        return f\"# No papers found for topic: {topic}\\n\\nTry searching for papers on this topic first.\"\n",
    "    \n",
    "    try:\n",
    "        with open(papers_file, 'r') as f:\n",
    "            papers_data = json.load(f)\n",
    "        \n",
    "        # 创建包含论文详细信息的 Markdown 内容\n",
    "        content = f\"# Papers on {topic.replace('_', ' ').title()}\\n\\n\"\n",
    "        content += f\"Total papers: {len(papers_data)}\\n\\n\"\n",
    "        \n",
    "        for paper_id, paper_info in papers_data.items():\n",
    "            content += f\"## {paper_info['title']}\\n\"\n",
    "            content += f\"- **Paper ID**: {paper_id}\\n\"\n",
    "            content += f\"- **Authors**: {', '.join(paper_info['authors'])}\\n\"\n",
    "            content += f\"- **Published**: {paper_info['published']}\\n\"\n",
    "            content += f\"- **PDF URL**: [{paper_info['pdf_url']}]({paper_info['pdf_url']})\\n\\n\"\n",
    "            content += f\"### Summary\\n{paper_info['summary'][:500]}...\\n\\n\"\n",
    "            content += \"---\\n\\n\"\n",
    "        \n",
    "        return content\n",
    "    except json.JSONDecodeError:\n",
    "        return f\"# Error reading papers data for {topic}\\n\\nThe papers data file is corrupted.\"\n",
    "```"
   ]
  },
  {
   "cell_type": "markdown",
   "id": "623bfcd9-a6db-43f7-a269-7d04bea1f0e6",
   "metadata": {},
   "source": [
    "提示词模板"
   ]
  },
  {
   "cell_type": "markdown",
   "id": "1b264d48-0e5d-4516-b9f3-3c320ce68c68",
   "metadata": {},
   "source": [
    "服务器还可以提供提示词模板。您可以使用装饰器 @MCP.prompt() 在 MCP 服务器中定义此功能，如下面的代码片段所示。MCP 将使用 generate_search_prompt 作为提示词名称，从函数的参数推断提示参数，从文档字符串推断提示描述。\n",
    "\n",
    "\n",
    "Server can also provide a prompt template. You can define this feature in the MCP server using the decorator `@mcp.prompt()` as shown in the code snippet below. MCP will use `generate_search_prompt` as the prompt name, infer the prompt arguments from the function's argument and the prompt's description from the doc string."
   ]
  },
  {
   "cell_type": "markdown",
   "id": "c1fe4dea-14a3-4c80-8303-a29e52111e3d",
   "metadata": {},
   "source": [
    "```python\n",
    "@mcp.prompt()\n",
    "def generate_search_prompt(topic: str, num_papers: int = 5) -> str:\n",
    "    \"\"\"为 Claude 生成提示，以查找和讨论特定主题的学术论文。\"\"\"\n",
    "    return f\"\"\"使用search_papers工具搜索关于'{topic}'的{num_papers}篇学术论文。\n",
    "\n",
    "    请遵循以下指令:\n",
    "       \n",
    "    3. 提供一个全面的总结，包括：\n",
    "       - '{topic}'当前研究状态的概述\n",
    "       - 论文之间的共同主题和趋势\n",
    "       - 研究差距或未来研究方向\n",
    "       - 该领域最具影响力或影响力的论文\n",
    "    \n",
    "    4. 以清晰、结构化的格式呈现你的发现，使用标题和列表项以便于阅读。\n",
    "\n",
    "    请同时提供每篇论文的详细信息以及{topic}研究领域的整体概述。\n",
    "    \"\"\"\n",
    "    "
   ]
  },
  {
   "cell_type": "markdown",
   "id": "66606464-9079-4171-9999-7f3f1a3b20e4",
   "metadata": {},
   "source": [
    "## 使用 MCP 聊天机器人中的资源和提示-可选阅读"
   ]
  },
  {
   "cell_type": "markdown",
   "id": "2d2799c8",
   "metadata": {},
   "source": [
    "聊天机器人更新使用户能够使用斜线命令与提示进行交互：\n",
    "- 用户可以使用命令 /提示词 列出可用的提示\n",
    "- 用户可以使用命令/提示词 <name><arg1=value1> 调用特定的提示符\n",
    "\n",
    "聊天机器人还允许用户使用 @ 字符与资源进行交互：\n",
    "- 用户可以使用命令 @文件夹 查看可用主题\n",
    "- 用户可以使用命令 @主题 获取该主题下的论文信息"
   ]
  },
  {
   "cell_type": "markdown",
   "id": "849912ad-77ac-40b7-b78a-383bb998921c",
   "metadata": {},
   "source": [
    "确保检查 mcp_project 文件夹中的更新代码。有几个新添加的方法（get_resource、execute_prompt、list_prompts）。以下是添加到聊天机器人的更新的简要总结：\n",
    "\n",
    "Make sure to check the updated code in the `mcp_project` folder. There's a couple of newly added methods (`get_resource`, `execute_prompt`, `list_prompts`). Here's a brief summary of the updates added to the chatbot:"
   ]
  },
  {
   "cell_type": "markdown",
   "id": "e48921da",
   "metadata": {},
   "source": [
    "\n",
    "- 在 connect_to_server 中：客户端向服务器请求列出它们提供的资源和提示模板（除了工具请求）。资源 URI 和提示词名称都被存储在 MCP 聊天机器人中。\n",
    "\n",
    "    <img src=\"images/ch08_resource_discovery.png\" width=\"400\">\n",
    "\n",
    "\n",
    "    <img src=\"images/ch08_prompt_discovery.png\" width=\"400\">\n"
   ]
  },
  {
   "cell_type": "markdown",
   "id": "a540566d",
   "metadata": {},
   "source": [
    "- 在 chat_loop 中：会检查用户的输入，查看用户是否使用了任何斜线命令或 @ 选项。\n",
    "\n",
    "- 如果用户键入：@文件夹 或 @主题 ，则会调用新添加的方法 get_resource ，将请求发送到服务器。\n",
    "   \n",
    "    <img src=\"images/ch08_resource_invocation.png\" width=\"400\">"
   ]
  },
  {
   "cell_type": "markdown",
   "id": "fbc03efc",
   "metadata": {},
   "source": [
    "- 如果用户输入：`/提示词`，则会调用新添加的方法 `list_prompts`。\n",
    "\n",
    "- 如果用户输入：`/提示词 <name> <arg1=value1>`，则会调用新添加的方法 `execute_prompt`，并将请求发送到服务器：\n",
    "   \n",
    "   <img src=\"images/ch08_prompt_invocation.png\" width=\"400\">\n",
    "   \n",
    "   将提示词传递到LLM。\n",
    "- 否则，查询将由 LLM 处理。"
   ]
  },
  {
   "cell_type": "markdown",
   "id": "6f221f83-6e8b-431e-bd27-6dccedfac408",
   "metadata": {},
   "source": [
    "## 运行MCP聊天机器人"
   ]
  },
  {
   "cell_type": "markdown",
   "id": "7ed7f73d-67fc-45bd-b418-31db8ee210ee",
   "metadata": {},
   "source": [
    "**终端指令**"
   ]
  },
  {
   "cell_type": "markdown",
   "id": "a83c1087-f208-42df-a167-6de840046a58",
   "metadata": {},
   "source": [
    "- 要打开终端，请运行以下命令。\n",
    "- 打开以下终端。\n",
    "- 导航到 `mcp_project` 目录：\n",
    "- `cd L7/mcp_project`\n",
    "- 激活虚拟环境：\n",
    "- `source .venv/bin/activate`\n",
    "- 运行聊天机器人：\n",
    "- `uv run mcp_chatbot.py`\n",
    "- 要退出聊天机器人，请输入 `quit`。\n",
    "- 如果您运行一些查询并希望访问 `papers` 文件夹或任何输出文件：1) 点击笔记本顶部菜单上的 `File` 选项，2) 点击 `Open`，然后 3) 点击 `L7` -> `mcp_project`。\n"
   ]
  },
  {
   "cell_type": "markdown",
   "id": "2a606f2f-7b79-4007-a4f8-70d786303040",
   "metadata": {},
   "source": [
    "如果想要在 jupyter 中使用 terminal 的话请运行下边这段代码\n"
   ]
  },
  {
   "cell_type": "markdown",
   "id": "5f21edb4-aba4-4b5a-b3c6-8aa908a7c8df",
   "metadata": {},
   "source": [
    "确保与聊天机器人进行交互。以下是一些查询示例：\n",
    "- **@文件夹*\n",
    "- **@ai_可解释性**\n",
    "- **/提示词**\n",
    "- **/提示词 产生搜索提示词 主题=历史 论文数量=2**\n"
   ]
  },
  {
   "cell_type": "markdown",
   "id": "36cecbfb-764b-40ee-af41-9fd685dcda3a",
   "metadata": {},
   "source": [
    "不同的运行结果：由于 AI 聊天模型的动态概率特性，其每次执行生成的输出结果可能会有所不同。如果您的结果与视频中显示的结果不同，请不要感到惊讶。\n",
    "\n",
    "<p style=\"background-color:#f7fff8; padding:15px; border-width:3px; border-color:#e0f0e0; border-style:solid; border-radius:6px\"> 🚨\n",
    "&nbsp; <b>不同的运行结果:</b> 由于 AI 聊天模型的动态概率特性，其每次执行生成的输出结果可能会有所不同。如果您的结果与教程中显示的结果不同，请不要感到惊讶。</p>"
   ]
  },
  {
   "cell_type": "markdown",
   "id": "cc25a7ee-e500-44b0-ba6b-c339f52dc83e",
   "metadata": {},
   "source": [
    "\n",
    "<div style=\"background-color:#fff6ff; padding:13px; border-width:3px; border-color:#efe6ef; border-style:solid; border-radius:6px\">\n",
    "<p> ⬇ &nbsp; <b>下载 Notebooks:</b> 1) 点击笔记本顶部菜单上的 <em>\"File\"</em> ，然后  2) 点击 <em>\"下载为\"</em> 并选择 <em>\"Notebook (.ipynb)\"</em>.</p>\n",
    "\n",
    "<p> 📒 &nbsp; 如需更多帮助，请参阅 <em>\"附录 - 提示、帮助和下载\"</em> 课程.</p>\n",
    "\n",
    "</div>"
   ]
  },
  {
   "cell_type": "code",
   "execution_count": null,
   "id": "21aa45a1-2c71-4800-a9b0-6eeb77fffac5",
   "metadata": {},
   "outputs": [],
   "source": []
  }
 ],
 "metadata": {
  "kernelspec": {
   "display_name": "Python [conda env:base] *",
   "language": "python",
   "name": "conda-base-py"
  },
  "language_info": {
   "codemirror_mode": {
    "name": "ipython",
    "version": 3
   },
   "file_extension": ".py",
   "mimetype": "text/x-python",
   "name": "python",
   "nbconvert_exporter": "python",
   "pygments_lexer": "ipython3",
   "version": "3.12.2"
  }
 },
 "nbformat": 4,
 "nbformat_minor": 5
}
